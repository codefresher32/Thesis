{
 "cells": [
  {
   "cell_type": "markdown",
   "metadata": {},
   "source": [
    "# Data Preprocessing"
   ]
  },
  {
   "cell_type": "markdown",
   "metadata": {},
   "source": [
    "### Importing the Dataset"
   ]
  },
  {
   "cell_type": "code",
   "execution_count": 1,
   "metadata": {},
   "outputs": [],
   "source": [
    "import numpy as np\n",
    "import matplotlib.pyplot as plt\n",
    "import pandas as pd"
   ]
  },
  {
   "cell_type": "code",
   "execution_count": 2,
   "metadata": {},
   "outputs": [
    {
     "data": {
      "text/html": [
       "<div>\n",
       "<style scoped>\n",
       "    .dataframe tbody tr th:only-of-type {\n",
       "        vertical-align: middle;\n",
       "    }\n",
       "\n",
       "    .dataframe tbody tr th {\n",
       "        vertical-align: top;\n",
       "    }\n",
       "\n",
       "    .dataframe thead th {\n",
       "        text-align: right;\n",
       "    }\n",
       "</style>\n",
       "<table border=\"1\" class=\"dataframe\">\n",
       "  <thead>\n",
       "    <tr style=\"text-align: right;\">\n",
       "      <th></th>\n",
       "      <th>Start_Lat</th>\n",
       "      <th>Start_Lng</th>\n",
       "      <th>Time</th>\n",
       "      <th>Temperature(F)</th>\n",
       "      <th>Visibility(mi)</th>\n",
       "      <th>Humidity(%)</th>\n",
       "      <th>Weather_Condition</th>\n",
       "      <th>Amenity</th>\n",
       "      <th>Bump</th>\n",
       "      <th>Crossing</th>\n",
       "      <th>Give_Way</th>\n",
       "      <th>Junction</th>\n",
       "      <th>Railway</th>\n",
       "      <th>Roundabout</th>\n",
       "      <th>Station</th>\n",
       "      <th>Stop</th>\n",
       "      <th>Traffic_Calming</th>\n",
       "      <th>Traffic_Signal</th>\n",
       "      <th>Accident</th>\n",
       "    </tr>\n",
       "  </thead>\n",
       "  <tbody>\n",
       "    <tr>\n",
       "      <td>0</td>\n",
       "      <td>33.638980</td>\n",
       "      <td>-117.730350</td>\n",
       "      <td>433</td>\n",
       "      <td>58.0</td>\n",
       "      <td>10.0</td>\n",
       "      <td>84.0</td>\n",
       "      <td>Cloudy</td>\n",
       "      <td>False</td>\n",
       "      <td>False</td>\n",
       "      <td>False</td>\n",
       "      <td>False</td>\n",
       "      <td>True</td>\n",
       "      <td>False</td>\n",
       "      <td>False</td>\n",
       "      <td>False</td>\n",
       "      <td>False</td>\n",
       "      <td>False</td>\n",
       "      <td>False</td>\n",
       "      <td>False</td>\n",
       "    </tr>\n",
       "    <tr>\n",
       "      <td>1</td>\n",
       "      <td>47.549580</td>\n",
       "      <td>-122.313470</td>\n",
       "      <td>1030</td>\n",
       "      <td>52.0</td>\n",
       "      <td>10.0</td>\n",
       "      <td>61.0</td>\n",
       "      <td>Clear</td>\n",
       "      <td>False</td>\n",
       "      <td>False</td>\n",
       "      <td>False</td>\n",
       "      <td>False</td>\n",
       "      <td>False</td>\n",
       "      <td>False</td>\n",
       "      <td>False</td>\n",
       "      <td>False</td>\n",
       "      <td>False</td>\n",
       "      <td>False</td>\n",
       "      <td>False</td>\n",
       "      <td>True</td>\n",
       "    </tr>\n",
       "    <tr>\n",
       "      <td>2</td>\n",
       "      <td>33.686620</td>\n",
       "      <td>-117.766000</td>\n",
       "      <td>843</td>\n",
       "      <td>71.1</td>\n",
       "      <td>10.0</td>\n",
       "      <td>55.0</td>\n",
       "      <td>Partly Cloudy</td>\n",
       "      <td>False</td>\n",
       "      <td>False</td>\n",
       "      <td>False</td>\n",
       "      <td>False</td>\n",
       "      <td>False</td>\n",
       "      <td>False</td>\n",
       "      <td>False</td>\n",
       "      <td>False</td>\n",
       "      <td>False</td>\n",
       "      <td>False</td>\n",
       "      <td>False</td>\n",
       "      <td>False</td>\n",
       "    </tr>\n",
       "    <tr>\n",
       "      <td>3</td>\n",
       "      <td>47.974910</td>\n",
       "      <td>-122.190790</td>\n",
       "      <td>1073</td>\n",
       "      <td>61.0</td>\n",
       "      <td>10.0</td>\n",
       "      <td>56.0</td>\n",
       "      <td>Fair</td>\n",
       "      <td>False</td>\n",
       "      <td>False</td>\n",
       "      <td>False</td>\n",
       "      <td>False</td>\n",
       "      <td>False</td>\n",
       "      <td>False</td>\n",
       "      <td>False</td>\n",
       "      <td>False</td>\n",
       "      <td>False</td>\n",
       "      <td>False</td>\n",
       "      <td>False</td>\n",
       "      <td>False</td>\n",
       "    </tr>\n",
       "    <tr>\n",
       "      <td>4</td>\n",
       "      <td>35.363611</td>\n",
       "      <td>-119.347778</td>\n",
       "      <td>722</td>\n",
       "      <td>83.0</td>\n",
       "      <td>10.0</td>\n",
       "      <td>46.0</td>\n",
       "      <td>Fair</td>\n",
       "      <td>False</td>\n",
       "      <td>False</td>\n",
       "      <td>False</td>\n",
       "      <td>False</td>\n",
       "      <td>False</td>\n",
       "      <td>False</td>\n",
       "      <td>False</td>\n",
       "      <td>False</td>\n",
       "      <td>False</td>\n",
       "      <td>False</td>\n",
       "      <td>False</td>\n",
       "      <td>False</td>\n",
       "    </tr>\n",
       "    <tr>\n",
       "      <td>...</td>\n",
       "      <td>...</td>\n",
       "      <td>...</td>\n",
       "      <td>...</td>\n",
       "      <td>...</td>\n",
       "      <td>...</td>\n",
       "      <td>...</td>\n",
       "      <td>...</td>\n",
       "      <td>...</td>\n",
       "      <td>...</td>\n",
       "      <td>...</td>\n",
       "      <td>...</td>\n",
       "      <td>...</td>\n",
       "      <td>...</td>\n",
       "      <td>...</td>\n",
       "      <td>...</td>\n",
       "      <td>...</td>\n",
       "      <td>...</td>\n",
       "      <td>...</td>\n",
       "      <td>...</td>\n",
       "    </tr>\n",
       "    <tr>\n",
       "      <td>26640</td>\n",
       "      <td>33.700624</td>\n",
       "      <td>-117.775189</td>\n",
       "      <td>41</td>\n",
       "      <td>51.0</td>\n",
       "      <td>10.0</td>\n",
       "      <td>63.0</td>\n",
       "      <td>Fair</td>\n",
       "      <td>False</td>\n",
       "      <td>False</td>\n",
       "      <td>False</td>\n",
       "      <td>False</td>\n",
       "      <td>False</td>\n",
       "      <td>False</td>\n",
       "      <td>False</td>\n",
       "      <td>False</td>\n",
       "      <td>False</td>\n",
       "      <td>False</td>\n",
       "      <td>False</td>\n",
       "      <td>False</td>\n",
       "    </tr>\n",
       "    <tr>\n",
       "      <td>26641</td>\n",
       "      <td>42.858170</td>\n",
       "      <td>-123.246925</td>\n",
       "      <td>1238</td>\n",
       "      <td>47.0</td>\n",
       "      <td>0.5</td>\n",
       "      <td>100.0</td>\n",
       "      <td>Rain</td>\n",
       "      <td>False</td>\n",
       "      <td>False</td>\n",
       "      <td>False</td>\n",
       "      <td>False</td>\n",
       "      <td>False</td>\n",
       "      <td>False</td>\n",
       "      <td>False</td>\n",
       "      <td>False</td>\n",
       "      <td>False</td>\n",
       "      <td>False</td>\n",
       "      <td>False</td>\n",
       "      <td>False</td>\n",
       "    </tr>\n",
       "    <tr>\n",
       "      <td>26642</td>\n",
       "      <td>36.532448</td>\n",
       "      <td>-120.489860</td>\n",
       "      <td>872</td>\n",
       "      <td>79.0</td>\n",
       "      <td>10.0</td>\n",
       "      <td>42.0</td>\n",
       "      <td>Fair</td>\n",
       "      <td>False</td>\n",
       "      <td>False</td>\n",
       "      <td>False</td>\n",
       "      <td>False</td>\n",
       "      <td>False</td>\n",
       "      <td>False</td>\n",
       "      <td>False</td>\n",
       "      <td>False</td>\n",
       "      <td>False</td>\n",
       "      <td>False</td>\n",
       "      <td>False</td>\n",
       "      <td>False</td>\n",
       "    </tr>\n",
       "    <tr>\n",
       "      <td>26643</td>\n",
       "      <td>47.656780</td>\n",
       "      <td>-122.322440</td>\n",
       "      <td>393</td>\n",
       "      <td>50.0</td>\n",
       "      <td>10.0</td>\n",
       "      <td>74.0</td>\n",
       "      <td>Fair</td>\n",
       "      <td>False</td>\n",
       "      <td>False</td>\n",
       "      <td>False</td>\n",
       "      <td>False</td>\n",
       "      <td>False</td>\n",
       "      <td>False</td>\n",
       "      <td>False</td>\n",
       "      <td>False</td>\n",
       "      <td>False</td>\n",
       "      <td>False</td>\n",
       "      <td>False</td>\n",
       "      <td>False</td>\n",
       "    </tr>\n",
       "    <tr>\n",
       "      <td>26644</td>\n",
       "      <td>45.381390</td>\n",
       "      <td>-122.752780</td>\n",
       "      <td>711</td>\n",
       "      <td>78.0</td>\n",
       "      <td>10.0</td>\n",
       "      <td>39.0</td>\n",
       "      <td>Fair</td>\n",
       "      <td>False</td>\n",
       "      <td>False</td>\n",
       "      <td>False</td>\n",
       "      <td>False</td>\n",
       "      <td>False</td>\n",
       "      <td>False</td>\n",
       "      <td>False</td>\n",
       "      <td>False</td>\n",
       "      <td>False</td>\n",
       "      <td>False</td>\n",
       "      <td>False</td>\n",
       "      <td>False</td>\n",
       "    </tr>\n",
       "  </tbody>\n",
       "</table>\n",
       "<p>26645 rows × 19 columns</p>\n",
       "</div>"
      ],
      "text/plain": [
       "       Start_Lat   Start_Lng  Time  Temperature(F)  Visibility(mi)  \\\n",
       "0      33.638980 -117.730350   433            58.0            10.0   \n",
       "1      47.549580 -122.313470  1030            52.0            10.0   \n",
       "2      33.686620 -117.766000   843            71.1            10.0   \n",
       "3      47.974910 -122.190790  1073            61.0            10.0   \n",
       "4      35.363611 -119.347778   722            83.0            10.0   \n",
       "...          ...         ...   ...             ...             ...   \n",
       "26640  33.700624 -117.775189    41            51.0            10.0   \n",
       "26641  42.858170 -123.246925  1238            47.0             0.5   \n",
       "26642  36.532448 -120.489860   872            79.0            10.0   \n",
       "26643  47.656780 -122.322440   393            50.0            10.0   \n",
       "26644  45.381390 -122.752780   711            78.0            10.0   \n",
       "\n",
       "       Humidity(%) Weather_Condition  Amenity   Bump  Crossing  Give_Way  \\\n",
       "0             84.0            Cloudy    False  False     False     False   \n",
       "1             61.0             Clear    False  False     False     False   \n",
       "2             55.0     Partly Cloudy    False  False     False     False   \n",
       "3             56.0              Fair    False  False     False     False   \n",
       "4             46.0              Fair    False  False     False     False   \n",
       "...            ...               ...      ...    ...       ...       ...   \n",
       "26640         63.0              Fair    False  False     False     False   \n",
       "26641        100.0              Rain    False  False     False     False   \n",
       "26642         42.0              Fair    False  False     False     False   \n",
       "26643         74.0              Fair    False  False     False     False   \n",
       "26644         39.0              Fair    False  False     False     False   \n",
       "\n",
       "       Junction  Railway  Roundabout  Station   Stop  Traffic_Calming  \\\n",
       "0          True    False       False    False  False            False   \n",
       "1         False    False       False    False  False            False   \n",
       "2         False    False       False    False  False            False   \n",
       "3         False    False       False    False  False            False   \n",
       "4         False    False       False    False  False            False   \n",
       "...         ...      ...         ...      ...    ...              ...   \n",
       "26640     False    False       False    False  False            False   \n",
       "26641     False    False       False    False  False            False   \n",
       "26642     False    False       False    False  False            False   \n",
       "26643     False    False       False    False  False            False   \n",
       "26644     False    False       False    False  False            False   \n",
       "\n",
       "       Traffic_Signal  Accident  \n",
       "0               False     False  \n",
       "1               False      True  \n",
       "2               False     False  \n",
       "3               False     False  \n",
       "4               False     False  \n",
       "...               ...       ...  \n",
       "26640           False     False  \n",
       "26641           False     False  \n",
       "26642           False     False  \n",
       "26643           False     False  \n",
       "26644           False     False  \n",
       "\n",
       "[26645 rows x 19 columns]"
      ]
     },
     "execution_count": 2,
     "metadata": {},
     "output_type": "execute_result"
    }
   ],
   "source": [
    "df = pd.read_csv(\"Traffic_most_frequent_road_dataset_after_prepocessed.csv\")\n",
    "df"
   ]
  },
  {
   "cell_type": "code",
   "execution_count": 3,
   "metadata": {},
   "outputs": [
    {
     "data": {
      "text/plain": [
       "array([[33.63898, -117.73035, 433, ..., False, False, False],\n",
       "       [47.54958, -122.31347, 1030, ..., False, False, False],\n",
       "       [33.68662, -117.766, 843, ..., False, False, False],\n",
       "       ...,\n",
       "       [36.532447999999995, -120.48986000000001, 872, ..., False, False,\n",
       "        False],\n",
       "       [47.65678, -122.32243999999999, 393, ..., False, False, False],\n",
       "       [45.38139, -122.75278, 711, ..., False, False, False]],\n",
       "      dtype=object)"
      ]
     },
     "execution_count": 3,
     "metadata": {},
     "output_type": "execute_result"
    }
   ],
   "source": [
    "X = df.iloc[:, :-1].values\n",
    "X"
   ]
  },
  {
   "cell_type": "code",
   "execution_count": 4,
   "metadata": {},
   "outputs": [
    {
     "data": {
      "text/plain": [
       "array([False,  True, False, ..., False, False, False])"
      ]
     },
     "execution_count": 4,
     "metadata": {},
     "output_type": "execute_result"
    }
   ],
   "source": [
    "Y = df.iloc[:, 18].values\n",
    "Y"
   ]
  },
  {
   "cell_type": "markdown",
   "metadata": {},
   "source": [
    "### Taking Care of Missing Data"
   ]
  },
  {
   "cell_type": "code",
   "execution_count": 5,
   "metadata": {},
   "outputs": [
    {
     "data": {
      "text/plain": [
       "array([[33.63898, -117.73035, 433.0, ..., False, False, False],\n",
       "       [47.54958, -122.31347, 1030.0, ..., False, False, False],\n",
       "       [33.68662, -117.766, 843.0, ..., False, False, False],\n",
       "       ...,\n",
       "       [36.532447999999995, -120.48986000000001, 872.0, ..., False,\n",
       "        False, False],\n",
       "       [47.65678, -122.32243999999999, 393.0, ..., False, False, False],\n",
       "       [45.38139, -122.75278, 711.0, ..., False, False, False]],\n",
       "      dtype=object)"
      ]
     },
     "execution_count": 5,
     "metadata": {},
     "output_type": "execute_result"
    }
   ],
   "source": [
    "from sklearn.impute import SimpleImputer\n",
    "\n",
    "s_imputer = SimpleImputer(missing_values = np.nan, strategy = 'mean', verbose = 0)\n",
    "s_imputer = s_imputer.fit(X[:, 0:6])\n",
    "X[:, 0:6] = s_imputer.transform(X[:, 0:6])\n",
    "X"
   ]
  },
  {
   "cell_type": "markdown",
   "metadata": {},
   "source": [
    "### Encoding Categorical Data"
   ]
  },
  {
   "cell_type": "code",
   "execution_count": 6,
   "metadata": {},
   "outputs": [],
   "source": [
    "from sklearn.preprocessing import LabelEncoder\n",
    "labelencoder_X = LabelEncoder()"
   ]
  },
  {
   "cell_type": "code",
   "execution_count": 7,
   "metadata": {},
   "outputs": [
    {
     "data": {
      "text/plain": [
       "array([[33.63898, -117.73035, 433.0, ..., 0, 0, 0],\n",
       "       [47.54958, -122.31347, 1030.0, ..., 0, 0, 0],\n",
       "       [33.68662, -117.766, 843.0, ..., 0, 0, 0],\n",
       "       ...,\n",
       "       [36.532447999999995, -120.48986000000001, 872.0, ..., 0, 0, 0],\n",
       "       [47.65678, -122.32243999999999, 393.0, ..., 0, 0, 0],\n",
       "       [45.38139, -122.75278, 711.0, ..., 0, 0, 0]], dtype=object)"
      ]
     },
     "execution_count": 7,
     "metadata": {},
     "output_type": "execute_result"
    }
   ],
   "source": [
    "for i in range(6, 18):\n",
    "    X[:, i] = labelencoder_X.fit_transform(X[:, i])\n",
    "X"
   ]
  },
  {
   "cell_type": "code",
   "execution_count": 8,
   "metadata": {},
   "outputs": [
    {
     "data": {
      "text/plain": [
       "array([0, 1, 0, ..., 0, 0, 0], dtype=int64)"
      ]
     },
     "execution_count": 8,
     "metadata": {},
     "output_type": "execute_result"
    }
   ],
   "source": [
    "Y = labelencoder_X.fit_transform(Y)\n",
    "Y"
   ]
  },
  {
   "cell_type": "markdown",
   "metadata": {},
   "source": [
    "### Splitting the Dataset"
   ]
  },
  {
   "cell_type": "code",
   "execution_count": 9,
   "metadata": {},
   "outputs": [],
   "source": [
    "from sklearn.model_selection import train_test_split\n",
    "\n",
    "X_train, X_test, Y_train, Y_test = train_test_split(X, Y, test_size = 0.2, random_state = 0)"
   ]
  },
  {
   "cell_type": "markdown",
   "metadata": {},
   "source": [
    "### Feature Scaling"
   ]
  },
  {
   "cell_type": "code",
   "execution_count": 10,
   "metadata": {},
   "outputs": [
    {
     "data": {
      "text/plain": [
       "array([[-0.22624   , -0.33313379,  0.78413266, ..., -0.0237334 ,\n",
       "         0.        , -0.06252207],\n",
       "       [ 1.0328441 , -0.82708124,  0.42265523, ..., -0.0237334 ,\n",
       "         0.        , -0.06252207],\n",
       "       [-1.20919929,  1.41952153,  0.46158357, ..., -0.0237334 ,\n",
       "         0.        , -0.06252207],\n",
       "       ...,\n",
       "       [-1.05050232,  1.04976223,  1.04550865, ..., -0.0237334 ,\n",
       "         0.        , -0.06252207],\n",
       "       [ 0.55833447, -1.09678903,  0.38650749, ..., -0.0237334 ,\n",
       "         0.        , -0.06252207],\n",
       "       [-0.2380859 , -0.3355861 , -0.74241433, ..., -0.0237334 ,\n",
       "         0.        , -0.06252207]])"
      ]
     },
     "execution_count": 10,
     "metadata": {},
     "output_type": "execute_result"
    }
   ],
   "source": [
    "from sklearn.preprocessing import StandardScaler\n",
    "sc = StandardScaler()\n",
    "X_train = sc.fit_transform(X_train)\n",
    "X_test = sc.transform(X_test)\n",
    "\n",
    "X_train"
   ]
  },
  {
   "cell_type": "markdown",
   "metadata": {},
   "source": [
    "## Building Simple Linear Regression Model"
   ]
  },
  {
   "cell_type": "markdown",
   "metadata": {},
   "source": [
    "### Fitting Simple Linear Regression to the Training Set"
   ]
  },
  {
   "cell_type": "code",
   "execution_count": 11,
   "metadata": {},
   "outputs": [
    {
     "data": {
      "text/plain": [
       "LinearRegression(copy_X=True, fit_intercept=True, n_jobs=None, normalize=False)"
      ]
     },
     "execution_count": 11,
     "metadata": {},
     "output_type": "execute_result"
    }
   ],
   "source": [
    "from sklearn.linear_model import LinearRegression\n",
    "classifier = LinearRegression()\n",
    "classifier.fit(X_train, Y_train)"
   ]
  },
  {
   "cell_type": "markdown",
   "metadata": {},
   "source": [
    "### Predicting the Test Set Result"
   ]
  },
  {
   "cell_type": "code",
   "execution_count": 12,
   "metadata": {},
   "outputs": [],
   "source": [
    "Y_pred = classifier.predict(X_test)"
   ]
  },
  {
   "cell_type": "markdown",
   "metadata": {},
   "source": [
    "### Accuracy"
   ]
  },
  {
   "cell_type": "code",
   "execution_count": 13,
   "metadata": {},
   "outputs": [
    {
     "name": "stdout",
     "output_type": "stream",
     "text": [
      "Mean Absolute Error\n",
      "Error: 17.508909772201996\n",
      "Accuracy: 82.491090227798\n"
     ]
    }
   ],
   "source": [
    "from sklearn.metrics import mean_absolute_error\n",
    "mape = mean_absolute_error(Y_test, Y_pred) * 100\n",
    "print(\"Mean Absolute Error\")\n",
    "print(\"Error:\", mape)\n",
    "print(\"Accuracy:\", 100 - mape)"
   ]
  },
  {
   "cell_type": "code",
   "execution_count": 14,
   "metadata": {},
   "outputs": [
    {
     "name": "stdout",
     "output_type": "stream",
     "text": [
      "Mean Squared Error\n",
      "Error: 8.793755961822884\n",
      "Accuracy: 91.20624403817712\n"
     ]
    }
   ],
   "source": [
    "from sklearn.metrics import mean_squared_error\n",
    "mape = mean_squared_error(Y_test, Y_pred) * 100\n",
    "print(\"Mean Squared Error\")\n",
    "print(\"Error:\", mape)\n",
    "print(\"Accuracy:\", 100 - mape)"
   ]
  },
  {
   "cell_type": "code",
   "execution_count": 15,
   "metadata": {},
   "outputs": [
    {
     "name": "stdout",
     "output_type": "stream",
     "text": [
      "Root Mean Squared Error\n",
      "Error: 29.654267756636454\n",
      "Accuracy: 70.34573224336354\n"
     ]
    }
   ],
   "source": [
    "from sklearn.metrics import mean_squared_root_error\n",
    "from math import sqrt\n",
    "mape = sqrt(mean_squared_error(Y_test, Y_pred)) * 100\n",
    "print(\"Root Mean Squared Error\")\n",
    "print(\"Error:\", mape)\n",
    "print(\"Accuracy:\", 100 - mape)"
   ]
  },
  {
   "cell_type": "code",
   "execution_count": null,
   "metadata": {},
   "outputs": [],
   "source": []
  }
 ],
 "metadata": {
  "kernelspec": {
   "display_name": "Python 3",
   "language": "python",
   "name": "python3"
  },
  "language_info": {
   "codemirror_mode": {
    "name": "ipython",
    "version": 3
   },
   "file_extension": ".py",
   "mimetype": "text/x-python",
   "name": "python",
   "nbconvert_exporter": "python",
   "pygments_lexer": "ipython3",
   "version": "3.7.4"
  }
 },
 "nbformat": 4,
 "nbformat_minor": 2
}
